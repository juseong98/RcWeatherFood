{
 "cells": [
  {
   "cell_type": "code",
   "execution_count": 1,
   "id": "96d19f1b",
   "metadata": {
    "scrolled": true
   },
   "outputs": [
    {
     "data": {
      "text/plain": [
       "'메밀전병'"
      ]
     },
     "execution_count": 1,
     "metadata": {},
     "output_type": "execute_result"
    }
   ],
   "source": [
    "import pandas as pd\n",
    "\n",
    "df = pd.read_csv('foodinfo.csv',encoding='euc-kr')\n",
    "df = df['대표식품명']\n",
    "df\n",
    "\n",
    "name = list(df)\n",
    "len(name)\n",
    "name[393]"
   ]
  },
  {
   "cell_type": "code",
   "execution_count": null,
   "id": "c74de7b1",
   "metadata": {},
   "outputs": [],
   "source": []
  },
  {
   "cell_type": "code",
   "execution_count": 2,
   "id": "408d6588",
   "metadata": {},
   "outputs": [],
   "source": [
    "\n",
    "import re\n",
    "from bs4 import BeautifulSoup as bs\n",
    "\n",
    "import requests\n",
    "\n",
    "# step2. 검색할 키워드 입력\n",
    "def GetImage(keyword) : \n",
    "\n",
    "    #keyword = re.sub(r\"[^ㄱ-ㅣ가-힣\\s]\", \"\", keyword)\n",
    "    \n",
    "    url = 'https://www.10000recipe.com/recipe/list.html?q='+ keyword + '&query=&cat1=&cat2=&cat3=&cat4=&fct=&order=accuracy&lastcate=order&dsearch=&copyshot=&scrap=&degree=&portion=&time=&niresource='\n",
    "\n",
    "    response = requests.get(url)\n",
    "\n",
    "    html_text = response.text\n",
    "\n",
    "\n",
    "\n",
    "    soup = bs(html_text, 'html.parser')\n",
    "\n",
    "\n",
    "    foodimg = soup.select_one(\"#contents_area_full > ul > ul > li:nth-child(1) > div.common_sp_thumb > a >img\")\n",
    "    #print(foodimg)\n",
    "    foodlink = foodimg.attrs['src']\n",
    "    #print(foodlink)\n",
    "    # 이미지 저장할 폴더 생성\n",
    "\n",
    "    import os\n",
    "\n",
    "    # path_folder의 경로는 각자 저장할 폴더의 경로를 적어줄 것(ex.img_download)\n",
    "\n",
    "#    if not os.path.isdir(path_folder):\n",
    "#        os.mkdir(path_folder)\n",
    "\n",
    "\n",
    "    # 이미지 다운로드\n",
    "\n",
    "    #from urllib.request import urlretrieve\n",
    "    import urllib.request\n",
    "    #urlretrieve(\"https:\" + foodlink, path_folder + query +'.jpg')        #link에서 이미지 다운로드, './imgs/'에 파일명은 index와 확장자명으로\n",
    "    urllib.request.urlretrieve(foodlink, \"./images/\" + keyword + \".jpg\")\n"
   ]
  },
  {
   "cell_type": "code",
   "execution_count": 3,
   "id": "e62bf98f",
   "metadata": {},
   "outputs": [
    {
     "name": "stdout",
     "output_type": "stream",
     "text": [
      "웨이퍼\n",
      "산자\n"
     ]
    }
   ],
   "source": [
    "\n",
    "for keyword in name :\n",
    "    try :\n",
    "        GetImage(keyword)\n",
    "    except:\n",
    "        print(keyword)"
   ]
  }
 ],
 "metadata": {
  "kernelspec": {
   "display_name": "Python 3",
   "language": "python",
   "name": "python3"
  },
  "language_info": {
   "codemirror_mode": {
    "name": "ipython",
    "version": 3
   },
   "file_extension": ".py",
   "mimetype": "text/x-python",
   "name": "python",
   "nbconvert_exporter": "python",
   "pygments_lexer": "ipython3",
   "version": "3.8.8"
  }
 },
 "nbformat": 4,
 "nbformat_minor": 5
}
